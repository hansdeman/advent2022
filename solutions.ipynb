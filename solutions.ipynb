{
 "cells": [
  {
   "cell_type": "code",
   "execution_count": 17,
   "metadata": {},
   "outputs": [],
   "source": [
    "import math\n",
    "import copy\n",
    "import numpy as np\n",
    "import pandas as pd\n"
   ]
  },
  {
   "cell_type": "code",
   "execution_count": 2,
   "metadata": {},
   "outputs": [],
   "source": [
    "def column_sum(lst):\n",
    "      \n",
    "    return list(map(sum, zip(*lst)))\n",
    "      \n"
   ]
  },
  {
   "cell_type": "code",
   "execution_count": 3,
   "metadata": {},
   "outputs": [
    {
     "name": "stdout",
     "output_type": "stream",
     "text": [
      "65912\n",
      "195625\n"
     ]
    }
   ],
   "source": [
    "with open('day 1.txt') as f:\n",
    "    lines = f.read()\n",
    "    lines = lines.replace('\\n', ' ').split(\"  \")\n",
    "    lines = [k.split(' ') for k in lines]\n",
    "    lines = [[int(k) for k in j] for j in lines]\n",
    "#print(lines)\n",
    "sums = [sum(k) for k in lines]\n",
    "sums = sorted(sums)\n",
    "print(sums[-1])\n",
    "print(sum(sums[-3:]))"
   ]
  },
  {
   "cell_type": "code",
   "execution_count": 4,
   "metadata": {},
   "outputs": [
    {
     "name": "stdout",
     "output_type": "stream",
     "text": [
      "13005\n",
      "11373\n"
     ]
    }
   ],
   "source": [
    "with open('day 2.txt') as f:\n",
    "    lines = f.read()\n",
    "    lines = lines.split(\"\\n\")\n",
    "    lines = [k.split(' ') for k in lines]\n",
    "#print(lines)\n",
    "winning = [[\"A\",\"Y\"],[\"B\",\"Z\"],[\"C\",\"X\"]]\n",
    "draw = [[\"A\",\"X\"],[\"B\",\"Y\"],[\"C\",\"Z\"]]\n",
    "losing = [[\"A\",\"Z\"],[\"B\",\"X\"],[\"C\",\"Y\"]]\n",
    "figure =  {\"X\": 1,\"Y\": 2, \"Z\": 3}\n",
    "score = 0 \n",
    "for i,j in enumerate(lines):\n",
    "    if j in winning:\n",
    "        score += 6\n",
    "    if j in draw:\n",
    "        score += 3\n",
    "    score += figure[j[1]]\n",
    "print(score)\n",
    "winning = {\"A\": 2,\"B\": 3, \"C\" : 1}\n",
    "draw =  {\"A\": 1,\"B\": 2, \"C\" : 3}\n",
    "losing = {\"A\": 3,\"B\": 1, \"C\" : 2}\n",
    "score = 0\n",
    "for i,j in enumerate(lines):\n",
    "   if j[1] == \"X\":\n",
    "        score += losing[j[0]]\n",
    "   elif j[1] == \"Y\":\n",
    "        score += draw[j[0]] + 3\n",
    "   else:\n",
    "        score += winning[j[0]] + 6\n",
    "print(score)\n"
   ]
  },
  {
   "cell_type": "code",
   "execution_count": 5,
   "metadata": {},
   "outputs": [
    {
     "name": "stdout",
     "output_type": "stream",
     "text": [
      "7980\n",
      "2881\n"
     ]
    }
   ],
   "source": [
    "with open('day 3.txt') as f:\n",
    "    lines = f.read()\n",
    "    lines = lines.split(\"\\n\")\n",
    "firstpart , secondpart = [i[:len(i)//2] for i in lines],[i[len(i)//2:] for i in lines]\n",
    "output = ''\n",
    "for count,value in enumerate(firstpart):\n",
    "    for element in value:\n",
    "        if element in secondpart[count]:\n",
    "            output += element\n",
    "            break\n",
    "values = [(lambda x: ord(x) - 96 if x.islower() else ord(x) - 38)(x)  for x in output]\n",
    "print(sum(values))\n",
    "#print(lines)\n",
    "output = ''\n",
    "for i in range(int(len(lines)/3)):\n",
    "    for letter in lines[i*3]:\n",
    "        if letter in lines[i*3+1] and letter in lines[i*3+2]:\n",
    "            output += letter\n",
    "            break\n",
    "values = [(lambda x: ord(x) - 96 if x.islower() else ord(x) - 38)(x)  for x in output]\n",
    "print(sum(values))\n"
   ]
  },
  {
   "cell_type": "code",
   "execution_count": 6,
   "metadata": {},
   "outputs": [
    {
     "name": "stdout",
     "output_type": "stream",
     "text": [
      "518\n",
      "909\n"
     ]
    }
   ],
   "source": [
    "with open('day 4.txt') as f:\n",
    "    lines = f.read()\n",
    "    lines = lines.split(\"\\n\")\n",
    "    lines = [k.split(',') for k in lines]\n",
    "    lines = [[k.split('-') for k in j] for j in lines]\n",
    "    lines = [[[int(k) for k in j] for j in i] for i in lines]\n",
    "counter = 0\n",
    "for count, value in enumerate(lines):\n",
    "    if (value[0][0] >= value[1][0] and value[0][1] <= value[1][1]) or (value[0][0] <= value[1][0] and value[0][1] >= value[1][1]):\n",
    "        counter += 1\n",
    "print(counter)\n",
    "counter = 0\n",
    "for count, value in enumerate(lines):\n",
    "    if (value[0][0] >= value[1][0] and value[0][0] <= value[1][1]) or (value[0][1] >= value[1][0] and value[0][1] <= value[1][1]) or (value[1][0] >= value[0][0] and value[1][0] <= value[0][1]) or (value[1][1] >= value[0][0] and value[1][1] <= value[0][1]) :\n",
    "         counter += 1\n",
    "print(counter)"
   ]
  },
  {
   "cell_type": "code",
   "execution_count": 7,
   "metadata": {},
   "outputs": [
    {
     "name": "stdout",
     "output_type": "stream",
     "text": [
      "[['L', 'J', 'C', 'C', 'T'], ['B'], ['V'], ['F'], ['J', 'W', 'T', 'C', 'Z', 'W', 'H', 'D', 'D', 'B', 'S', 'N', 'T', 'G', 'T', 'B', 'Q', 'S', 'Z', 'V'], ['S', 'D'], ['G', 'W', 'P', 'C', 'V', 'B', 'M', 'V', 'W', 'G', 'W', 'Z'], ['P'], ['C', 'F', 'G', 'L', 'F', 'S', 'R', 'M', 'N', 'N', 'M', 'B', 'N']]\n",
      "[['G', 'W', 'N', 'C', 'V'], ['L'], ['C'], ['W'], ['M', 'B', 'N', 'P', 'W', 'B', 'V', 'J', 'B', 'T', 'M', 'D', 'C', 'F', 'T', 'B', 'C', 'W', 'N', 'H'], ['F', 'T'], ['N', 'C', 'W', 'D', 'Z', 'G', 'B', 'V', 'S', 'T', 'S', 'D'], ['S'], ['M', 'G', 'P', 'R', 'L', 'F', 'Q', 'G', 'S', 'J', 'Z', 'V', 'Z']]\n"
     ]
    }
   ],
   "source": [
    "with open('input 5.txt') as f:\n",
    "    setup = f.read()\n",
    "    setup = setup.split(\"\\n\")\n",
    "nostacks = int(setup[-1][-2])\n",
    "setup = setup[:-1]\n",
    "setup = setup[::-1]\n",
    "#print(setup)\n",
    "stacks = None\n",
    "def init_list_of_objects(size):\n",
    "    list_of_objects = list()\n",
    "    for i in range(0,size):\n",
    "        list_of_objects.append( list() ) #different object reference each time\n",
    "    return list_of_objects\n",
    "stacks = init_list_of_objects(nostacks)\n",
    "for i in range(len(setup)):\n",
    "    for j in range(nostacks):\n",
    "        if setup[i][j*4+1] != ' ':\n",
    "            stacks[j].append(setup[i][j*4+1])\n",
    "#print(stacks)\n",
    "\n",
    "with open(\"moves 5.txt\") as f:\n",
    "    moves = f.read()\n",
    "    moves = moves.split(\"\\n\")\n",
    "    moves = [k.split(' ') for k in moves]\n",
    "    moves = [j[1::2] for j in moves]\n",
    "    moves = [[int(j) for j in k] for k in moves]\n",
    "    \n",
    "#print(moves)\n",
    "#print(len(moves))\n",
    "\n",
    "copy_stacks = copy.deepcopy(stacks)\n",
    "#part 1\n",
    "for zet in range(len(moves)):\n",
    "    for aantal in range(moves[zet][0]):\n",
    "        removed = stacks[moves[zet][1]-1].pop(-1)\n",
    "        stacks[moves[zet][2]-1].append(removed)\n",
    "print(stacks)\n",
    "\n",
    "#part 2\n",
    "stacks = copy_stacks\n",
    "removed = []\n",
    "for zet in range(len(moves)):\n",
    "    move = stacks[moves[zet][1]-1][-moves[zet][0]:]\n",
    "    del stacks[moves[zet][1]-1][-moves[zet][0]:]\n",
    "    stacks[moves[zet][2]-1].extend(move)\n",
    "\n",
    "    #stacks[moves[zet][2]-1].append(removed)\n",
    "print(stacks)\n",
    "\n"
   ]
  },
  {
   "cell_type": "code",
   "execution_count": 9,
   "metadata": {},
   "outputs": [
    {
     "name": "stdout",
     "output_type": "stream",
     "text": [
      "2665\n"
     ]
    }
   ],
   "source": [
    "test = 'hlfhfzffqnnrlnnvnmmgbgwgttbppcrcnnmdmfdmmgwwrrqnrrscrctcbttvcvtvvhchjhccjgjttmddplplqplqlbqlblrrbrvvprpffpmmzpmpcczjzzbwwfssvrrvggncgncgcwczzswwqqjjflffpwfpwpbwpwpdpbpvvqffcfcjffjllncczfzzmhzzmddgdrgrwwjzzdjjsnjsjfsjsjhhcchlccchqchhzzpnngdgndnpnppsdsggbvgvgpprqrqmmlzmzllvrrcvclcwczcqqcdcfcqqmmzbzdzdjzdjdmjdjzdjjcvjvcjvcvssltstttfbtftrfrlrdllrqqfssslccjdcjdjfdjfjqjnqjnjnrnddtnndtnnztzqztqztqzzpmzmggzrgrwwdqwdwcdwdnnmlmgmtmtstwssbffcnclclnclcjjcjpcpqcpqcpqpmqqfccpcjppnspsnnzggnpntndtdqtthwhnhwnwllzhlzhlzzghzghhlhvhwhjhfjjcnjnvjnjvvqccdmmgddllnmnrrdtdnncggfhgfglfgfmfnnpvvggznnwvnwwfgghrrfwrwzwszzzldzdldhlhblhblhbbbgjgsjggmqqmrrzggrhhwpwdpwdpwplpgpbggtssqffbqfbqbnnsqnqfnngcnnmwnmnbmmmslsjllbtbbpllltzzhgzztllsdllrvvhvjvbbhcbhchmchcctbcttvccgwcwpcchrcrdrdggcrrntrrfllcffbdfflrrrgbgrbbbdqbqjbbgbgrrqwqtwqwhwghwhzwwcswsnwnqqjhjhwhfwhffdfgddgjgsjgjhgglhlwhlhssfqfhhdmdnmnppdcddfzzhmhqqntqnnjvnjvjddcvcgcbgbbpjbjtbjjfgftgffplljfjrrhqqpddlssrvsrvrpppsllsdsqqqzzfttqsqzssjbbrnbnnrbbsrshsrrshrhwhbwbrrsrfrttfqtfqqfddvrvjrjvjsjhjsjdjqdjjlqjjjgcjcmcncfcrcwrwsrsslffzszmsszrsssrnrjjvbvpvcppptbbhhrddbcbggbqbmmsqqwggfpfbblmldmmpmwpwfwjfjsjnjmmpllccjzcjcwwpswshhpthhzchctcbcrrrrmvrvrdvvjmmvgmgwglghllvmllzlzzsvzzrmmhnnsjnnpvpwvpwwmvwwdqqdffhhhmccfgfvggchcctrrmdrrhrhnhnzzgpzzgttnhthvhzzqvvvwpwqpqdppsnnrgnnhphphmhcmcrmrvvqlvqqsccqhchzhwwmvmzmczzgsgdsggthgglrlnrlllbdllhwlwltwwcswsgssbhbsbvsbsbwbhbnncrcllttbrbppjccfpfhhgshschsccmrcmmcrrrzvvrcrggmwgwjwnwjjbffjddjnjgngqgdgnndznndvvfqfgfvvrvqrvvpllnsszbsbdbbdzbdbzbqbzznrznzjzpptcptccvwccfscffrftrrsnsvvswvvhbhzzfbzffncchhcnngzzcpcmmfttsntnjjsccqbcqqmzzgppdhppdtppmffgtgvvlzlpptdtttdppqjqtqctcrrzsswwtnwtnwnqqvbbdgjhvmmzpnhfvsbddzhgdwcnfdstvhhbzlzcfjwhlptbhmbmblprtsdmrdhbbbwpplnzgdnrzjmgzgpqbggnqvwwtntzgfwqrztqtdrsnhpfzswptggnvbszdcrmrhhtlrrfnpqrnpwrbmhlfwmdqqdbqrwbzqjbzwrgmbgrtzrhdclqfgsrtsgfwqrnnqgwsncmpgffggssrqvwjlhpsghbqdtzwmvzzvcmzsjqvprvcqwqjbcqcqrhpwwcsrscgmfdppbgvmnrdfrppblznbstnjzwwgstjvtprjbhtpdfgrhdjnjmnlbfwggzhcngvcwvcfpcwdtdppwjrdzsnjlnrzbfqqshlnzvwsmscgpfwjzhtwgfwgzdhbdwwzbsmfwwbmvrlrpswnjlmfbfzhwvcmgwfzssmmtjlwtrpwpwgnspbgchdncbfcpjsvtzjqtwqwjwgbhrbwvhqbcstsgsnwsjmhrlrvzgqhqfrmnrjdrhdjwcwctpdrzctlvnfzmzwhsnfprlzgzjpqvzchlmvbhffhpfjtvsdbvbdmwgvmqpflhwwndbqthmmwshdtspsrvqdflmmzwbqbqmpfdwjmvpbzdnqzfmhzdgldqjjvgpfcqftvjzwnzmfqdggrwlfzdhjnhmtrjbnllgqpntwmhnwtglnqdwbqdblpwnnrdwzpsqzfwqcmhqhnpsdcwvdldphgnrtqzdbnnzdzfttldrqcztlvlrgpdqzrcthslmtqhfvbzrfgnlrprcpbsctqhspbhnjtzrzhqjzszbzdthttqmbznzssftztwlggmdqqdtfllqjzjtvpgjfhtbwtbmtjplqnbdmsvlnqcwtdbdvfjnzgsmpnhbvvwwfbrgffjqfsccdjdwvbsdhqwfzvcpjzjbdjgrdctjplhwbdhhnbnwstvndnnwtsgbhzbvwdshvmnbwsthlrggtmddvjbfzfrnrdrqfjpslrccctzpjbwpdbhlbzfmwbltcqfngdprvfhgcszdtpnrcpdmllfnlspgrdrpwqmqbmrglvlrsmrfqrtzzgjcvqtqzpmghjrvmdmvvqztrjzbzjwdqsmrwpqnswbzhjbzzhdvmnfdsztzdzrjssgnnfqvbtsqrrmcppjgrmnstrnrlwjvvcczqlcbmwqzdfpssfwdfrvwtstwchdgwtrhhcmppcqlmrqlnwqccfphsdhbsbmtjvpcwwjrmrllbpnrmpbvwgwbftpdpphccwqcblcnvvbbppscmnjqgddllbnbvmmqzdffrrjtqwllzgpqrmnlfqrptzqmdmnrfnjpvqvjbsqrhljslgqqcqqtmtbwjrpphtjgjbqpzmzrzjrfjwcdcnbsjfljclffjplnrrcfbmhphtcjrzlrvvjcznpgpnrdwwqvgnbnzqnlcghhgwvhqbvjzfbdvhrzlqfbtlqhpltfjlfpbnjbphmmpntzqgjmwjtchwmlwvfjmfflqzpqnvvrgnbddzlfpdpdjghfgbsfddjspnfdwvqppncmdgfrnvrpcrflhgjgbwdsbwblfcwbtlrrnjjdhbvmrzgsvjwgfnnhqfbvhprlmwwqgclzlbqbrdspcbhftmdscsmpwrggrmnsvjphjmzmmrlrhnmdhwjlbmjchtvsrcplfspsssjznmzcrqnsjjtwjzvlhshbptqwwvjhjvzrhphphsbphpnzpfbwcdnqrhrrvlrwrztlpqnrcfzrncsvpzqzgslrlrwhvtgjmfncldqmvshlmnlpqbgvnwqfcthgrgllmqrjqmfgznspgltpptglpdcvhtzsprprbldbzhbmjsqzwvjggwhsczltcvgwqhspzpzvljwqjgrgtwswjdswlzjzslrsslvqzncjwhbbjpbdthqpgmhfglggmlrgwdsplgscrwstntvrhjzjjlshtgmnnhvsjwfmcjbpzjcstmnpvtbgrfcfdwjljsrfhdphrdcslwhgvlnwltwchplvfzntfgcnlsvzrvnnczhhqdlwjvqprhmtjdtwmppffmszzzqtfrgnhnzqgqzhrjzgntcszstrfhhtptgvswvzvjcgcntmhzzmdgsmtgzhpfvqfnwmsjdhtfgmmbrrfsdlptchqqzqdqjncmtpznfssrcnmcdnthglmfzsfgltrndqsfmdftmfgchbwmzgrtjvgqtshlltthnnpqnzfrchzhdzrrnpzvfzblrmhwdwjnqdptlbvndmmlhzhvsfdlmlhqrgqqzsdqtpczwcrwcbsftvvphfbwjrvrnrcqbbcsqgnhltwzvllljcvpwjgslbmngcdmpdvjlgcnrzwqjdgrblncpqmrgjmpqjzvdmcmwfnwqlszdgwqdfznhsnpsjrfwrqpqmpvhstmzgqblfmcfvwljbhdfhdmqcvrwnqcstwtzgmng'\n",
    "for i in range(len(test)):\n",
    "    a = ''\n",
    "    for j in test[i:i+14]:\n",
    "        if j not in a:\n",
    "            a += j\n",
    "        else:\n",
    "            break\n",
    "    if a == test[i:i+14]:\n",
    "        result = i + 14\n",
    "        break\n",
    "print(result)\n",
    "\n",
    "    \n"
   ]
  },
  {
   "cell_type": "code",
   "execution_count": 24,
   "metadata": {},
   "outputs": [
    {
     "name": "stdout",
     "output_type": "stream",
     "text": [
      "{'dir 900': 906, 'dir 57': 3307, 'dir 739': 8972, 'dir 23': 9205, 'dir 146': 13440, 'dir 777': 16759, 'dir 936': 18049, 'dir 998': 18477, 'dir 329': 19398, 'dir 491': 19937, 'dir 721': 31407, 'dir 64': 31719, 'dir 1086': 36092, 'dir 547': 37975, 'dir 874': 41383, 'dir 877': 41383, 'dir 880': 41383, 'dir 970': 44806, 'dir 213': 47522, 'dir 773': 57972, 'dir 243': 61689, 'dir 10': 62158, 'dir 118': 73435, 'dir 1033': 73628, 'dir 106': 74450, 'dir 111': 76055, 'dir 114': 76055, 'dir 895': 78315, 'dir 729': 81283, 'dir 580': 85806, 'dir 1074': 88439, 'dir 866': 91378, 'dir 869': 91378, 'dir 769': 92092, 'dir 248': 92888, 'dir 1018': 94389, 'dir 201': 99041, 'dir 253': 99280, 'dir 82': 105075, 'dir 1041': 110134, 'dir 838': 111546, 'dir 829': 116738, 'dir 1070': 116955, 'dir 743': 119520, 'dir 1025': 128554, 'dir 1028': 128554, 'dir 87': 131522, 'dir 1082': 133965, 'dir 68': 138296, 'dir 71': 138296, 'dir 227': 150980, 'dir 495': 156668, 'dir 168': 156779, 'dir 904': 163015, 'dir 406': 165774, 'dir 529': 168290, 'dir 887': 169639, 'dir 890': 169639, 'dir 1078': 170057, 'dir 511': 173846, 'dir 951': 176337, 'dir 984': 177330, 'dir 338': 178907, 'dir 428': 180021, 'dir 323': 180468, 'dir 725': 180750, 'dir 507': 181373, 'dir 124': 184378, 'dir 358': 184906, 'dir 623': 186873, 'dir 354': 189592, 'dir 27': 193872, 'dir 300': 195733, 'dir 231': 197783, 'dir 643': 200137, 'dir 646': 200137, 'dir 649': 200137, 'dir 652': 200137, 'dir 655': 200137, 'dir 142': 202804, 'dir 1053': 203407, 'dir 747': 204332, 'dir 800': 204886, 'dir 342': 206073, 'dir 397': 206490, 'dir 463': 209286, 'dir 466': 209286, 'dir 469': 209286, 'dir 459': 213111, 'dir 525': 219498, 'dir 989': 229303, 'dir 1013': 231367, 'dir 1057': 232449, 'dir 1060': 232449, 'dir 1063': 232449, 'dir 916': 233355, 'dir 627': 234441, 'dir 630': 234441, 'dir 197': 234449, 'dir 382': 240018, 'dir 385': 240018, 'dir 450': 240447, 'dir 575': 247458, 'dir 606': 250028, 'dir 862': 257031, 'dir 1037': 265609, 'dir 686': 267152, 'dir 709': 270783, 'dir 592': 273564, 'dir 670': 279244, 'dir 757': 283178, 'dir 520': 285037, 'dir 734': 285496, 'dir 560': 286077, 'dir 563': 286077, 'dir 264': 287371, 'dir 370': 287833, 'dir 373': 287833, 'dir 222': 289340, 'dir 679': 290611, 'dir 402': 293096, 'dir 312': 303714, 'dir 842': 313417, 'dir 516': 315363, 'dir 752': 319130, 'dir 475': 323251, 'dir 946': 335587, 'dir 205': 351547, 'dir 296': 369045, 'dir 921': 375857, 'dir 619': 421314, 'dir 390': 432821, 'dir 283': 451117, 'dir 319': 452354, 'dir 333': 456064, 'dir 796': 474462, 'dir 258': 492085, 'dir 636': 558095, 'dir 675': 575697, 'dir 76': 588903, 'dir 856': 595236, 'dir 713': 608934, 'dir 1007': 609079, 'dir 568': 629604, 'dir 217': 638103, 'dir 378': 672839, 'dir 50': 725105, 'dir 762': 728102, 'dir 1046': 730148, 'dir 99': 730475, 'dir 236': 734319, 'dir 454': 745648, 'dir 276': 747729, 'dir 306': 755297, 'dir 847': 776986, 'dir 1002': 791949, 'dir 993': 851316, 'dir 666': 854941, 'dir 598': 859431, 'dir 940': 919804, 'dir 482': 939327, 'dir 500': 996345, 'dir 908': 1014228, 'dir 584': 1025783, 'dir 189': 1039881, 'dir 613': 1119193, 'dir 833': 1201949, 'dir 929': 1203075, 'dir 92': 1214512, 'dir 824': 1405818, 'dir 181': 1504453, 'dir 40': 1524272, 'dir 43': 1524272, 'dir 362': 1613043, 'dir 441': 1820046, 'dir 551': 1825553, 'dir 974': 1879855, 'dir 288': 1974266, 'dir 697': 2235179, 'dir 32': 2460635, 'dir 347': 2568781, 'dir 965': 2654809, 'dir 813': 3054935, 'dir 539': 3161529, 'dir 806': 3321697, 'dir 690': 3331150, 'dir 172': 3466202, 'dir 957': 3605047, 'dir 269': 3681111, 'dir 163': 3715869, 'dir 156': 4310399, 'dir 534': 5140153, 'dir 150': 5362682, 'dir 787': 5369709, 'dir 432': 10148525, 'dir 419': 14694309, 'dir 412': 15212993, 'dir 129': 27886955, 'dir 14': 37180514, 'dir /': 42558312}\n",
      "2031851\n",
      "2558312\n"
     ]
    }
   ],
   "source": [
    "with open('day 7.txt') as f:\n",
    "    setup = f.read()\n",
    "    setup = setup.split(\"\\n\")\n",
    "tree = {'dir /':''}\n",
    "directories = {'dir /': 0}\n",
    "#There can be duplicate names of the directories, so a unique value is needed. \n",
    "for no,value in enumerate(setup):\n",
    "    if value.startswith(\"$ cd\") and not value.startswith(\"$ cd /\") and not value == \"$ cd ..\":\n",
    "        directories['dir ' + str(no)] = 0\n",
    "        setup[no] = \"$ cd \" + str(no)\n",
    "#We keep a list where we are in the folder structure.\n",
    "#Then we add the value of those folders that are in that list. We update the list as we traverse through the list structure.\n",
    "for no,value in enumerate(setup):\n",
    "    if value == \"$ cd /\":\n",
    "        currdir = \"dir /\"\n",
    "        depth = 0\n",
    "        currtree = [\"dir /\"]\n",
    "    elif value.startswith(\"$ cd \") and value != \"$ cd ..\":\n",
    "        currdir = 'dir' +  value.split(\"cd\",1)[1]\n",
    "        depth += 1\n",
    "        currtree.append(currdir)\n",
    "    elif value == \"$ cd ..\":\n",
    "        depth -= 1\n",
    "        currtree.pop(-1)\n",
    "        currdir = currtree[-1]\n",
    "    elif value == \"$ ls\" or value.startswith(\"dir\"):\n",
    "        continue \n",
    "    else:\n",
    "        size = int(value.split(\" \",1)[0])\n",
    "        for i in currtree:\n",
    "            directories[i] += size\n",
    "#answers\n",
    "print(dict(sorted(directories.items(), key=lambda item: item[1])))\n",
    "print(sum(value for key,value in directories.items() if value <= 100000))\n",
    "free = (70000000 - directories['dir /'])\n",
    "needed = 30000000 - free\n",
    "print(needed)\n",
    "\n",
    "\n"
   ]
  },
  {
   "cell_type": "code",
   "execution_count": 35,
   "metadata": {},
   "outputs": [
    {
     "name": "stdout",
     "output_type": "stream",
     "text": [
      "1733\n",
      "284648\n"
     ]
    }
   ],
   "source": [
    "with open('day 8.txt') as f:\n",
    "    setup = [[int(num) for num in line if num != '\\n']for line in f]\n",
    "result = [[0 for i in range(len(setup[0]))]for j in range(len(setup))]\n",
    "rows = len(setup)\n",
    "elements = len(setup[0])\n",
    "result[rows-1][elements-1] = 1\n",
    "for j in range(elements-1):\n",
    "    highest = setup[0][j]\n",
    "    result[0][j] = 1\n",
    "    for i in range(rows-1):\n",
    "        if setup[i+1][j] > highest:\n",
    "            result[i+1][j] = 1\n",
    "            highest = setup[i+1][j]\n",
    "for j in range(elements-1):\n",
    "    highest = setup[-1][j]\n",
    "    result[-1][j] = 1\n",
    "    for i in range(rows-1):\n",
    "        if setup[-i-2][j] > highest:\n",
    "            result[-i-2][j] = 1\n",
    "            highest = setup[-i-2][j]\n",
    "for i in range(rows-1):\n",
    "    highest = setup[i][0]\n",
    "    result[i][0] = 1\n",
    "    for j in range(elements-1):\n",
    "        if setup[i][j+1] > highest:\n",
    "            result[i][j+1] = 1\n",
    "            highest = setup[i][j+1]\n",
    "for i in range(rows-1):\n",
    "    highest = setup[i][-1]\n",
    "    result[i][-1] = 1\n",
    "    for j in range(elements-1):\n",
    "        if setup[i][-j-2] > highest:\n",
    "            result[i][-j-2] = 1    \n",
    "            highest = setup[i][-j-2]\n",
    "print(sum([sum(result[i]) for i in range(len(result))]))\n",
    "result = [[0 for i in range(len(setup[0]))]for j in range(len(setup))]\n",
    "for i in range(rows):\n",
    "    for j in range(elements):\n",
    "        #right\n",
    "        right = 0\n",
    "        for k in range(1,elements-j):\n",
    "            if setup[i][j+k] < setup[i][j]:\n",
    "                right += 1\n",
    "            else:\n",
    "                right += 1\n",
    "                break\n",
    "        #left\n",
    "        left = 0\n",
    "        for k in range(1,j+1):\n",
    "            if setup[i][j-k] < setup[i][j]:\n",
    "                left += 1\n",
    "            else:\n",
    "                left +=1\n",
    "                break\n",
    "        #down\n",
    "        down = 0\n",
    "        for k in range(1,elements-i):\n",
    "            if setup[i+k][j] < setup[i][j]:\n",
    "                down += 1\n",
    "            else:\n",
    "                down +=1\n",
    "                break\n",
    "        #up\n",
    "        up = 0\n",
    "        for k in range(1,i+1):\n",
    "            if setup[i-k][j] < setup[i][j]:\n",
    "                up += 1\n",
    "            else:\n",
    "                up +=1\n",
    "                break\n",
    "        result[i][j] = up*down*left*right\n",
    "print(max([max(i) for i in result]))\n",
    "        \n"
   ]
  },
  {
   "cell_type": "code",
   "execution_count": 29,
   "metadata": {},
   "outputs": [
    {
     "name": "stdout",
     "output_type": "stream",
     "text": [
      "[-17, -126] [[-17, -127], [0, 0], [0, 0], [0, 0], [0, 0], [0, 0], [0, 0], [0, 0], [0, 0]]\n",
      "6067\n",
      "2471\n"
     ]
    }
   ],
   "source": [
    "with open('day 9.txt') as f:\n",
    "    lines = f.read()\n",
    "    lines = lines.split(\"\\n\")\n",
    "    lines = [k.split(' ') for k in lines]\n",
    "\n",
    "result = [[0 for i in range(500)]for j in range(500)]\n",
    "heads = [0,0]\n",
    "tails =[[0,0] for i in range(9)]\n",
    "result[0][0] = 1\n",
    "def evalt(r,h,t):\n",
    "    #horizontal\n",
    "    if h[0] == t[0]:\n",
    "        if abs(h[1]-t[1]) == 2:\n",
    "            if h[1] > t[1]:\n",
    "                t[1] += 1\n",
    "            else:\n",
    "                t[1] -= 1\n",
    "    #vertical        \n",
    "    elif h[1] == t[1]:\n",
    "        if abs(h[0]-t[0]) == 2:\n",
    "            if h[0] > t[0]:\n",
    "                t[0] += 1\n",
    "            else:\n",
    "                t[0] -= 1\n",
    "    #diagonal       \n",
    "    elif abs(h[1]-t[1]) == 2 or abs(h[0]-t[0]) == 2:\n",
    "            if h[0] > t[0] and h[1] > t[1]:\n",
    "                t[0] += 1\n",
    "                t[1] += 1\n",
    "            elif h[0] > t[0] and h[1] < t[1]:\n",
    "                t[0] += 1\n",
    "                t[1] -= 1\n",
    "            elif h[0] < t[0] and h[1] > t[1]:\n",
    "                t[0] -= 1\n",
    "                t[1] += 1\n",
    "            else:\n",
    "                t[0] -= 1\n",
    "                t[1] -= 1\n",
    "    r[t[0]][t[1]] = 1\n",
    "    return r,t\n",
    "\n",
    "#part 1\n",
    "for move in lines:\n",
    "    direction = move[0]\n",
    "    for i in range(int(move[1])):\n",
    "        if direction == 'R':\n",
    "            heads[1] += 1\n",
    "        if direction == 'L':\n",
    "            heads[1] -= 1\n",
    "        if direction == 'U':\n",
    "            heads[0] -= 1\n",
    "        if direction == 'D':\n",
    "            heads[0] += 1\n",
    "        result, tails[0] = evalt(result,heads,tails[0])\n",
    "print(heads, tails)\n",
    "print(sum([sum(i) for i in result]))\n",
    "\n",
    "#part 2\n",
    "result = [[0 for i in range(500)]for j in range(500)]\n",
    "heads = [0,0]\n",
    "tails =[[0,0] for i in range(9)]\n",
    "result[0][0] = 1\n",
    "result2 = []\n",
    "for move in lines:\n",
    "    direction = move[0]\n",
    "    for i in range(int(move[1])):\n",
    "        if direction == 'R':\n",
    "            heads[1] += 1\n",
    "        if direction == 'L':\n",
    "            heads[1] -= 1\n",
    "        if direction == 'U':\n",
    "            heads[0] -= 1\n",
    "        if direction == 'D':\n",
    "            heads[0] += 1\n",
    "        result, tails[0] = evalt(result,heads,tails[0])\n",
    "        for k in range(8):\n",
    "            result, tails[k+1] = evalt(result,tails[k],tails[k+1])\n",
    "        result2.append(tails[8].copy())\n",
    "resultset = [ x for i, x in enumerate(result2) if x not in result2[:i]]\n",
    "print(len(resultset))\n"
   ]
  },
  {
   "cell_type": "code",
   "execution_count": 4,
   "metadata": {},
   "outputs": [
    {
     "name": "stdout",
     "output_type": "stream",
     "text": [
      "12560\n",
      "###..#....###...##..####.###...##..#....\n",
      "#..#.#....#..#.#..#.#....#..#.#..#.#....\n",
      "#..#.#....#..#.#..#.###..###..#....#....\n",
      "###..#....###..####.#....#..#.#....#....\n",
      "#....#....#....#..#.#....#..#.#..#.#....\n",
      "#....####.#....#..#.#....###...##..####.\n"
     ]
    }
   ],
   "source": [
    "with open('day 10.txt') as f:\n",
    "    lines = f.read()\n",
    "    lines = lines.split(\"\\n\")\n",
    "    lines = [k.split(' ') for k in lines]\n",
    "#part 1\n",
    "X = [0 for i in range(500)]\n",
    "X[0] =1\n",
    "cycle = 0\n",
    "currentvalue = 1\n",
    "for i in lines:\n",
    "    if i[0] == 'addx': \n",
    "        cycle += 1\n",
    "        X[cycle] = X[cycle-1]\n",
    "        currentvalue += int(i[1])\n",
    "        cycle += 1\n",
    "        X[cycle] += currentvalue\n",
    "        X[cycle+1] = X[cycle]\n",
    "    if i[0] == 'noop' :\n",
    "        cycle += 1\n",
    "        X[cycle] = X[cycle-1]\n",
    "        \n",
    "print(X[19]*20+X[59]*60+X[99]*100+X[139]*140+X[179]*180+X[219]*220)\n",
    "\n",
    "#part 2\n",
    "X = [0 for i in range(500)]\n",
    "X = 1\n",
    "cycle = 0\n",
    "currentvalue = 1\n",
    "result = ''\n",
    "line = 0 \n",
    "for i in lines:\n",
    "    if i[0] == 'addx': \n",
    "        if cycle < 40:\n",
    "            cycle += 1\n",
    "        else:\n",
    "            cycle = 1\n",
    "        if X-1 <= (cycle-1) <= X+1:\n",
    "            result += '#'\n",
    "        else:\n",
    "            result += '.'\n",
    "        currentvalue = int(i[1]) \n",
    "        if cycle < 40:\n",
    "            cycle += 1\n",
    "        else:\n",
    "            cycle = 1\n",
    "        if X-1 <= (cycle-1) <= X+1:\n",
    "            result += '#'\n",
    "        else:\n",
    "            result += '.'\n",
    "        X += currentvalue\n",
    "    if i[0] == 'noop' :\n",
    "        if cycle < 40:\n",
    "            cycle += 1\n",
    "        else:\n",
    "            cycle = 1\n",
    "        if X-1 <= (cycle-1) <= X+1:\n",
    "            result += '#'\n",
    "        else:\n",
    "            result += '.'\n",
    "print(result[0:40])\n",
    "print(result[40:80])\n",
    "print(result[80:120])\n",
    "print(result[120:160])\n",
    "print(result[160:200])\n",
    "print(result[200:240])"
   ]
  },
  {
   "cell_type": "code",
   "execution_count": 7,
   "metadata": {},
   "outputs": [
    {
     "name": "stdout",
     "output_type": "stream",
     "text": [
      "['Monkey 0:', '  Starting items: 71, 86', '  Operation: new = old * 13', '  Test: divisible by 19', '    If true: throw to monkey 6', '    If false: throw to monkey 7', '', 'Monkey 1:', '  Starting items: 66, 50, 90, 53, 88, 85', '  Operation: new = old + 3', '  Test: divisible by 2', '    If true: throw to monkey 5', '    If false: throw to monkey 4', '', 'Monkey 2:', '  Starting items: 97, 54, 89, 62, 84, 80, 63', '  Operation: new = old + 6', '  Test: divisible by 13', '    If true: throw to monkey 4', '    If false: throw to monkey 1', '', 'Monkey 3:', '  Starting items: 82, 97, 56, 92', '  Operation: new = old + 2', '  Test: divisible by 5', '    If true: throw to monkey 6', '    If false: throw to monkey 0', '', 'Monkey 4:', '  Starting items: 50, 99, 67, 61, 86', '  Operation: new = old * old', '  Test: divisible by 7', '    If true: throw to monkey 5', '    If false: throw to monkey 3', '', 'Monkey 5:', '  Starting items: 61, 66, 72, 55, 64, 53, 72, 63', '  Operation: new = old + 4', '  Test: divisible by 11', '    If true: throw to monkey 3', '    If false: throw to monkey 0', '', 'Monkey 6:', '  Starting items: 59, 79, 63', '  Operation: new = old * 7', '  Test: divisible by 17', '    If true: throw to monkey 2', '    If false: throw to monkey 7', '', 'Monkey 7:', '  Starting items: 55', '  Operation: new = old + 7', '  Test: divisible by 3', '    If true: throw to monkey 2', '    If false: throw to monkey 1']\n",
      "9699690\n",
      "[[2672967, 7609431, 6224441, 4043171, 3416636, 8011226, 8011226, 3416636, 1374596, 6342143, 5338568, 9155108, 4203875, 8798465, 7138408, 2041498, 2630905, 4162435], [8202058, 5701846, 9225821, 2485451, 231017, 4547147, 721000], [7149045, 5617515, 7091325, 7683462, 3971520], [2505889, 9212151, 8011224, 3416634, 1374594, 3416634], [], [], [], []]\n",
      "[145312, 76000, 69327, 69344, 118646, 75990, 13329, 145314]\n"
     ]
    }
   ],
   "source": [
    "import math\n",
    "with open('day 11.txt') as f:\n",
    "    lines = f.readlines()\n",
    "    lines = [x.strip(\"\\n\") for x in lines]\n",
    "\n",
    "print(lines)\n",
    "starting = []\n",
    "operation = []\n",
    "test = []\n",
    "iftrue = []\n",
    "iffalse = []\n",
    "\n",
    "\n",
    "for i in range(int(len(lines)/7)+1):\n",
    "    starting.append(lines[i*7+1].split(': ')[1].split(', '))\n",
    "    operation.append(lines[i*7+2].split('= ')[1])\n",
    "    test.append(int(lines[i*7+3].split('by ')[1]))\n",
    "    iftrue.append(int(lines[i*7+4].split('monkey ')[1]))\n",
    "    iffalse.append(int(lines[i*7+5].split('monkey ')[1]))\n",
    "\n",
    "starting = [[int(i) for i in x] for x in starting]\n",
    "inspection = [0 for x in range(len(starting))]\n",
    "theproduct = math.prod(test)\n",
    "print(theproduct)\n",
    "\n",
    "for x in range(10000):\n",
    "    for monkey in range(len(operation)):\n",
    "        for i,value in enumerate(starting[monkey]):\n",
    "            old = value\n",
    "            value = eval(operation[monkey])\n",
    "            # value = int(math.floor(value / 3))\n",
    "            value = value % theproduct\n",
    "            if (value % test[monkey]) == 0:\n",
    "                starting[iftrue[monkey]].append(value)\n",
    "            else:\n",
    "                starting[iffalse[monkey]].append(value)\n",
    "            inspection[monkey] += 1\n",
    "        starting[monkey] = []\n",
    "\n",
    "print(starting)\n",
    "print(inspection)\n",
    "\n"
   ]
  },
  {
   "cell_type": "code",
   "execution_count": 8,
   "metadata": {},
   "outputs": [
    {
     "name": "stdout",
     "output_type": "stream",
     "text": [
      "21115867968\n"
     ]
    }
   ],
   "source": [
    "print(145312*145314)"
   ]
  }
 ],
 "metadata": {
  "kernelspec": {
   "display_name": "Python 3.9.9 64-bit",
   "language": "python",
   "name": "python3"
  },
  "language_info": {
   "codemirror_mode": {
    "name": "ipython",
    "version": 3
   },
   "file_extension": ".py",
   "mimetype": "text/x-python",
   "name": "python",
   "nbconvert_exporter": "python",
   "pygments_lexer": "ipython3",
   "version": "3.9.9"
  },
  "orig_nbformat": 4,
  "vscode": {
   "interpreter": {
    "hash": "4ab9b6c5d3bf92fe4bc9eb597e788a04bfbcb1d7e66680abc0ef2b49b424de8c"
   }
  }
 },
 "nbformat": 4,
 "nbformat_minor": 2
}
