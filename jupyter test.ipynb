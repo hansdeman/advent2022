{
 "cells": [
  {
   "cell_type": "code",
   "execution_count": 43,
   "metadata": {},
   "outputs": [],
   "source": [
    "import math\n",
    "import numpy as np\n",
    "import pandas as pd\n"
   ]
  },
  {
   "cell_type": "code",
   "execution_count": 44,
   "metadata": {},
   "outputs": [],
   "source": [
    "def column_sum(lst):\n",
    "      \n",
    "    return list(map(sum, zip(*lst)))\n",
    "      \n"
   ]
  },
  {
   "cell_type": "code",
   "execution_count": 45,
   "metadata": {},
   "outputs": [
    {
     "name": "stdout",
     "output_type": "stream",
     "text": [
      "65912\n",
      "195625\n"
     ]
    }
   ],
   "source": [
    "with open('day 1.txt') as f:\n",
    "    lines = f.read()\n",
    "    lines = lines.replace('\\n', ' ').split(\"  \")\n",
    "    lines = [k.split(' ') for k in lines]\n",
    "    lines = [[int(k) for k in j] for j in lines]\n",
    "#print(lines)\n",
    "sums = [sum(k) for k in lines]\n",
    "sums = sorted(sums)\n",
    "print(sums[-1])\n",
    "print(sum(sums[-3:]))"
   ]
  },
  {
   "cell_type": "code",
   "execution_count": 46,
   "metadata": {},
   "outputs": [
    {
     "name": "stdout",
     "output_type": "stream",
     "text": [
      "13005\n",
      "11373\n"
     ]
    }
   ],
   "source": [
    "with open('day 2.txt') as f:\n",
    "    lines = f.read()\n",
    "    lines = lines.split(\"\\n\")\n",
    "    lines = [k.split(' ') for k in lines]\n",
    "#print(lines)\n",
    "winning = [[\"A\",\"Y\"],[\"B\",\"Z\"],[\"C\",\"X\"]]\n",
    "draw = [[\"A\",\"X\"],[\"B\",\"Y\"],[\"C\",\"Z\"]]\n",
    "losing = [[\"A\",\"Z\"],[\"B\",\"X\"],[\"C\",\"Y\"]]\n",
    "figure =  {\"X\": 1,\"Y\": 2, \"Z\": 3}\n",
    "score = 0 \n",
    "for i,j in enumerate(lines):\n",
    "    if j in winning:\n",
    "        score += 6\n",
    "    if j in draw:\n",
    "        score += 3\n",
    "    score += figure[j[1]]\n",
    "print(score)\n",
    "winning = {\"A\": 2,\"B\": 3, \"C\" : 1}\n",
    "draw =  {\"A\": 1,\"B\": 2, \"C\" : 3}\n",
    "losing = {\"A\": 3,\"B\": 1, \"C\" : 2}\n",
    "score = 0\n",
    "for i,j in enumerate(lines):\n",
    "   if j[1] == \"X\":\n",
    "        score += losing[j[0]]\n",
    "   elif j[1] == \"Y\":\n",
    "        score += draw[j[0]] + 3\n",
    "   else:\n",
    "        score += winning[j[0]] + 6\n",
    "print(score)\n"
   ]
  },
  {
   "cell_type": "code",
   "execution_count": 60,
   "metadata": {},
   "outputs": [
    {
     "name": "stdout",
     "output_type": "stream",
     "text": [
      "7980\n",
      "['GbccTtTSGGbgrcWBGGrdgTnVQnCmNpCJlNnNPVfClcnN', 'vMzvZhzhwDLVmQnClwwNQp', 'FRsZFzjQFsqRzRRjDZbdtTgdHBBWGrdBdHHs', 'HCLTmbCLgzNBNPSSlT', 'JJGMWRJMrrdwWWGjGWMLRGLjBzNQsBzPPfflzDPBsBffDrQz', 'pwJdLMjdMddWjLtwZWMMwGtHhnvnCnhvqVFFZnvbgbqVCZ', 'tvMCDCSVVvDDBQFRbqWMMsWgFWgc', 'BLLPTpBmfLPrHLLfLsbhRqbzRRcRHgqssR', 'dfdNLmPTdNZmZdZPfpmTJLPPSvQjtSGVwQSDJSjSwDQBVCGw', 'wZWTWNFqzwZbWNpSgGMVMtTHsgGs', 'nlnPnPvLQjzdtsjBHBMMGSHg', 'LdnrrLnhRdLLmLDRPvmdQnJDJWNqcCqZJZqfFqfcfzcq', 'vPTbfWggzvGVqjsVqV', 'dDcJHZcZHmMFQQMshsjcRqVChjNtqh', 'dDHJDmFnrJmQFnBdMdQHJdZZlWTTPPjTLWbTzLWlTTfwjzBT', 'VfmDHDfZzfLcZLLLHBFQtRJTcdjgdTgFjjtR', 'WRPhMlGSshPRGgvFMtddTjjCQt', 'SPhWPsbNWShsWllswGpzLmzfZwmZfqLVRrDBZB', 'MtZgRgJJbbGjgDDgbjRjRbGcNdWwncBFdLBBMhFBQwnWnw', 'vlpsNVsCzzfHpvTpzlSSSvppcQdfnwnWhndWndwfQLhnhcFQ', 'pCsCCTHVvSzvPvHvzpPVTVHHRJJDgJZjJjqNmjZmDtJRZPNR', 'GTGTbhhPjJJjBhhZsGzmfHSNsmHHgSdL', 'FcFpMDFDRFfsRHSjmLjR', 'CpFjqcCjwjnpwhTPTWBQZZTb', 'zdzzwDlnTDQQQQnqQqqsFqnrSBSprbpjNJJBJPPdpJfbZb', 'hgMcRVGMtHgRcNSPrpfgfjJpBp', 'CLRHVHhtvtvGPWFFDqPDLnqP', 'jssjjjHCSGCMNJTWWCJT', 'DvcvBtVrrDSNWcMfLRfM', 'ppDZSpBhBvBmvDHnFsHHPnGPGbQp', 'VVVLsLWnjVVBGgScjtBjjLLgmJdPmJmfmhmGmmmNmJGhPNJP', 'QbqlZqQTZvMHmshvFhPfffFp', 'CsTRrQrwbCbrZqQTQlRjtDBSBtwBjgVWLBtgBt', 'FLsSFRTPscHZmGRGGc', 'npNNptgttCNpgLbnQMgnQnMNqVhGqZrmrmmqrmcrqmCVZwqH', 'WMWbtpjLgnLNvSfPPzjvjPdv', 'FcFFhZlhlMrHlSFSrHZMJZSVmmLmVLLCsBtLBCzCBVDRcV', 'PMGPbndvGfGstLzDCmLB', 'NwjPqdvPpvgddqgwHrZhJlTlThpWJMZp', 'SdjStScTWTwwvwwfjRhQPQQQDlLBGpLrPrLrLc', 'gCqJbNsVsNMgzMJnnqzNlCLGGlZZPrLLlLLtpPDl', 'JsFJFMmbJqqnJbhSHdjWwjtmHWvS', 'zBFDGGbNzDWRbDccsWslHlWWsJcS', 'zMVqTwzPfVfVMwmlcZTZZlSmTlmc', 'MrMvMCnrMVMCPrPnDFFGgQdFgRdzznbd', 'rJtJnrnSShJgcCsjjNNMSSDzRmzm', 'HWDWPBPDBfFVBffqplvlmNlQllvzQNQqlN', 'FVGHHFVbwBpBPwFFGfBpHVDgrcJCbZcLdCgtcCcJLJrd', 'MGHGGFFqbFTGmFwLmQsQflFN', 'WcvBdpjhdZdNwdZwLZ', 'vWtgVcpvjthtNcjntDhhpSJMSqHzqTzqCVHTSqHPGT', 'cVHZfjfZMcrSDQMJRCBCQw', 'PtGddtslsWQDBdwCDDdw', 'WsvTFnshPTGhGhhlPNGTCnsjgFVfmgfHZfVHgcHZVVFmFV', 'JFFqfJBgrHBffVHlsBFqfWNgjTtztNnttWWvWNwzwt', 'hGZbcBcZZSQmZLQRTbvNttTzjtTvbpzv', 'cmmhRchPZhZSSmdmGPDDdJdBVMffHlqlslfF', 'qWwTNwNHMHNNMRqMdRMQQMHLmmvzrTmrzPvzJvZvZlvzjZ', 'FphBpnBhVBSFvLljzZPpmrPL', 'nGsBbssbcbdlwggdNl', 'RLSRTLSFFFLPSWpzzTJdzsQpbd', 'DvqqcwVMDDcfrrnwDcwnvCdpQQphJhJjhdhpzsJhMQ', 'fGcvDZffcGGZDHGrGrtJRPlPmJSlPLRgNBHg', 'QlFFmGQFDQrrWlRlWGrnQVCLNvvPwLCwBvCcCcJCLCCm', 'tHtfsjSMCNPwzvCf', 'MjqStqMHsMSgjShjTttgphsTlrbDWGDrGlRTlNDbQrQRWRbD', 'QbChcCJCbHQCjbGCjQfsdsrtTqrfTLrcFftd', 'DwRzVzzZnzZRwvgRhRWtqsLLWtRdqLLdqd', 'NMwMzBVVPPSGQhBl', 'ttTPHWdrJjCdjnFMtLLtLNvQltLh', 'pSDBwZRBBsgfDGGsGpBVMFPQQlFMFQQFQfNvLNfF', 'PsppZzBVzwgDwBwwgpSSBssWjqrdCnjjHdmCTHznWCJJWn', 'WcdHdPcdZrLPDPBQDg', 'pMjMMqfmJlqNflMlFNRfLBwnLzTTTDJJwDTTGTLJ', 'hlhbqpbNNbVVdbZtSB', 'RDBWGRDnzBWBJDNBttSLlclldtQQcTTLFF', 'rTPVjZZsCZrVhdFMcgLgwFSgQh', 'PsjHVffbsTCHrCvTPfDJGJHNzzNJWnnnmzDB', 'LQdFgTLdQjVsQFTRBjMZrmBjWGMGSW', 'flvJJlJpbNnppCpMGGfBBZSZRfFmGr', 'NNbNDNlbDpHlbDDplvzvnCbzqsQPFQsTTccsqdQqLgdHLwQw', 'DnGDNDTFdFwDzCZZRmhThCRRRv', 'SgrPLrrLsBPbHBCmtVZVCdCcctHH', 'rSbgBrsqgsPppMBqfpPsLpPGlNGGDwNFNJWDldlllDwJMG', 'PWbvNWvpvJPnWDGqDjDczj', 'QwfFFVVQSMlDlQfFZhsHrBrhHHTcjnczqjzqrG', 'mwMSgfmDmSSFgfFNbmLpbRbJbvbRpC', 'lsggLLLDGldGTGBBhNTCwRwVnJnNCCnbRV', 'QQpWrpHtrHrpNRRJNtfbJCVR', 'PvQQFPzccvBglclNscls', 'NsszMMNGWLcWBhMF', 'gTtwvbqfnDTdpvqDftpnnntDZvLFQFBLmRWFRhJZJhLLBRQB', 'DwrpDbngprPWGllSNrSS', 'nCqdLPZPMMZLNvtGhRmGhGPmtW', 'TSrVZVSZVwFTgSVtrtchvWRRrtWtcr', 'gjbjBjgTjfgfVfHHppBLMnqLMDnqClsZJLLD', 'hrqShCPCpHHBVBGWQFVQGFGnzQDf', 'tgvZsbwsbcMbRsgccjDGFvGFfWJLLzFFQJ', 'TTZmMcgmbmWZMctbbtsHrrqqSHHrCrPBBSCPrT', 'HHHNZLGLpBpRSvWlGlqhPghqDGnnFr', 'QCNCMTJdjMjdjsQTbdQmmCQDngFqnggPFcPcnPFcDqcbDn', 'MNJfzNsfJdJjdzwMNjjTJttSHVStRtZVwHvWRWtZHt', 'DSbvDdDbbwHgCSgZPwpbPgmTTJhsTTChqTJssQssFmJJ', 'zzjMNNGMMRcNNhvnvFqmtJJv', 'WWffvlVrcGzGlcjLvfrVRLHgHgpDPSbPpwwHbWbBbPPH', 'FCCjjFlFtCjzlpTHtJsQTTcpTT', 'DWLhWSgDWWdSWLwmmpHHQTHcBTBvvwHvHl', 'mgGRhrLLgWqnjrfCNlzP', 'cLsslBlsqNNTHlTVNbLZZLRCQbZZdQdpbP', 'JGfJhhwfwBBSJPRdZddpZRQbfR', 'hWmWGgDhJrFhBcWsssWHvHll', 'lmmvlJFtMHFtQzVSRbPGzLJRgG', 'BcTcrNBrrwwqDBqNqwcrhLpLPVzRhPRPPPgSGVPLbS', 'TrDqcnsTcsmnvHtdGtMW', 'CcnDQpSDcnFcPBrmbPQGBsGB', 'gCtCfRZTBWbjPRbr', 'qgvHqgJhMfZTtvHgfTghJgMJDpdppFSLLCcSDvLLcdDwvLcw', 'ffFgGRMWSTGcnDgllDDpDp', 'dvSdHBrVSLNVLjdlsllcsDqpsZ', 'SHHHNrLJLvtNQJVvmMfGRGGRCJWJRwzWMh', 'JNpNDfDBDHVzwHHzpzBWVBPsvsFNCbmbqsFFNsjCmvsmNC', 'rnnrtLhnrrQZMvtFbWmqtllcFb', 'GQRdGQLLhMSQhZLZdgdwwHzPDzSVWzVDwJDVpz', 'LdcGjgdcrMDSFGVfnnGG', 'HNsCCQFCPvFFBJnnSBJVfDVJwf', 'HHFRqHPpNppmQPcpLjzrdgtbgztT', 'GlZZbclGZsDvlGhsShRnCnMQtjtQjnCQsQRM', 'PggFVcdFNFNNVVFLPdPdrwpWBMMnqMpnttJMnjMnQqtqQtqq', 'FdgcdcLwfTmSGTmhlbzG', 'RGvhGrLhhRhlpChZrGSprBdPPHJJSBgSSHqBWBBffH', 'mQmjmwtTMTVLzHnTPWffPHHJBf', 'jMmmwMcVcFLFrlRshZbCrF', 'SnNgNgBlNZSZdZtMrlnSnnQtjpwFwpvFJwFqpwSbqjjqGRpv', 'CLCcWHLhLTzsDPcCWMLGpFJbGFwsbvGwJwjpRv', 'zMCTPhmHWzfhQQmndNllNrQg', 'dbdBdZrQsrdrGslrrSpLvwHmlTmmwScTHv', 'FgnJqLDLWqNnNpppmpCSSmCJTw', 'NNhhnRNfzMhgnMDFfGdGLbBVVdQRtPVZGt', 'BBQJNTTzTcfRhtjhffqDDWCC', 'vZnsLsVLSvPwPFFnwPlSPgZWqGjChgWCCWWCMCgGMh', 'srLLnLmlPwrrPwmwwvlRqzQRJBmppQTTQpTdBN', 'PLDpZGpWbNGWLDfQmsQDwwsmhm', 'vTzMMbgCfgHQsmQt', 'VMlRznlzVnTcFzbMcrpJcNrJdjdpZrLdcZ', 'SftvFcDSvDHsFtctMSvbdjbpqpRRpRTJrMdrrb', 'QzQZWZnQgQZwBBwsJdqPjdjrnTpJjs', 'NGmwmgszhZwwGGgZGmggWLVSVHlNVVtDcDltFVVVlVHt', 'WCfFBfBHHjHHjgHBjJFVcVRwQMbVrRhrJbRRJM', 'sZMsDqzZPRrRrVswdc', 'vvTzDzpDTvpDvZPvSnNZZlSHMCHjjFtWmlttlCjmCF', 'hJZwhrvhBJRrPQPwRRZLllgLqfcqpTggpcTWMTff', 'HHDzMztbVgTzNpgf', 'nGbmtjDMFjDjCHbbbHHHdBQQPBrZvJQRwvwRPZQJGs', 'NNSrMSHRqWpWNNrNMvLffTBBDmsvcmcJLM', 'lwPPhcddcGPlBDTDlmDvJJsv', 'bZhzCdPGGFzVVPwVwbNtcqHrpnpZptSZqRrt', 'GvvSWhmhWBNcBDNc', 'FzlRRTljjRTjRRmZfbflRTlFFrrMrcBcDVqBVsNDDJsMFr', 'bttRfzfRHzjlmlnCbTtzbRShgwHGGvppLdpvwLLGLLhd', 'MHGMWdBFFNsFFHpWSFddMmqVmVBggmlVfbVffjgZml', 'hcJsTTscvsLDzDJmqVgfqbqnbmfJbJ', 'PvRTzsPwLcwCprSdwdNW', 'qfJnJdLpJzrcqCrCzcGfpRSSVBPRSjSSllTNRBdTRS', 'DbsbtggsbbsghhgvnWWSlVjPSjmmPBtjPNlTmS', 'vHHHHDHvZHQvWbWsZDgWhDwWzpfGfzfcpFJzczwFJrfffnGC', 'sQvsRQsFZvfpGhjhQqjpZvjGJHgngPBNHnCBJBCmSBmBNG', 'HTHwbtdTDDnCTPTT', 'zwMlVdzbzLzMWvQZRQZfZZlHsR', 'QhzWwRBPHgFrWWrH', 'SDgJCCDCsVpMMqTtFpfpqG', 'gJNCCddSZNSlljQzPPNBzR', 'dLzVVjfLGCCdRPrdmBtwWttr', 'NnbNsbTHJnbHbSHlNQsNtwrJRwBMMBhrPJWZRRtM', 'QSslpFvpSSsQPFCDqqgzcjCj', 'fcpGshsfNcNZsmRjNqCtnFgbCgHrrggmrn', 'QvzBlBBQBdJTBzBwVVMgbrwwLFtLtgLFHCHrbF', 'dlQQMBSSTPZfPcfssZNC', 'gNGVMzVpVVTdPDWdRdNT', 'BfjbnCBjBzffHrbrzBDddQWTZZQTTJTQTHHS', 'zrFncfBjcjnrrlCLwFgpmvFmwGmVLh', 'MbngccTfWgbWcTTzZghmLshhLRttpthRDLtf', 'CdFdJHCJjBvBSCNCNJBjjdjpsPDwDtwvptRPmLmzRwhhLR', 'qJSCCBFHQBFFldrVZZbggnGTzcZQ', 'lPrpppllcwwpHprppNdfLbQJnWdLJnncdN', 'tSjjjSSDGgghRbbSTfTbTFTLQn', 'jCBgDMbBMGghZzCZmmlrrpwp', 'FhCDFvvPwCjcLhDjhnvjnsdfZTlflQlflLsppdQfld', 'zPNSmmHrSSHWBNSMMVGzfGfZTZQZzdpdRGZR', 'WSNVVMMVtHSVbMNWBHqmwcvhcgwgvwtPvgtPDjtw', 'jSSSjzZMmgSzzwmZBtHcHmtNdncHtnpNcn', 'VsLsRsJJsTfRVfLRLJlfLlWqNbDcddncvpvbdvcnpqdpdtHq', 'GQQTsJGGJLlRGJFWffWLhgZwrZBZFZrhtBjrjjZw', 'ZfzJPvPnLvRJRfZLDfjfrBcqrgsgDBrcrGgslsms', 'SNhpqSNhpVTNQSMNgWmrlccVGBBmwrBw', 'QHHFhhNdTNHHfZPFqtqPRtjq', 'PMZSPSZZGMspsLhLRqRVzfGjvF', 'tcwwgcgbcbCrtbbtmQQcCqRffFLhRgqjFjRfhFqhqz', 'CLQtcbcmwmbdrbBrlrCwQTsTPsPsZNBPNWJpZWpTss', 'lMTrcHrhChWnRzJrznnr', 'DDJbPwjLJpfBQjPVBpbsGVGVWnZnsqnZsnzsqZ', 'wJQLbpPJDLfgPbDNCHNlghNCMhcNcl', 'tlVZhlVWtnBltVtssZBBbPbcpdPwbPWfvcbLvbbb', 'NwCTFNFDNdSNPpLpfN', 'CGwRjwDjzFFGRGjjFRjlBtZqMzVVtVqhMZMBZn', 'HhFdMFHhgrdjcZtZjr', 'zvvQQvzwzDMjZTjtcrTDtt', 'BwMwSvQSVlzQlMQzwzNgGHPGGHFCCCgGhsHLCS', 'zMVtBhhVhhDhtzBtMTTfDrPbmRRmPbQmrQbNQGRQtR', 'vLlJHgnLpDvHHvHvmPbSQbQRGmJmPRrb', 'pspwHClCwqplsHqDsMMTFWsWfjzszf', 'CmmjLwWSWGCHCjwSmStJBgQcccBhwgQtgthQ', 'WZVFTpqWsMsZpFddzszbVzJQBnRtrQthchdBgtgRtdrc', 'bbsMTWsMVsZqNZMpqWDqbMsCjvlCfjGCPlLLPLCmSCfCLN', 'VzsjjVGhpjJrJHCppprt', 'WtMnqtWdSQDtMRSnLNHHwHwQvrJrJCPN', 'tTtWSScTddBqdRMmlsbFBfhVBhfjjF', 'gLMWzdTgLFQHdlMgMRwcwhqqvPcPhVFRDF', 'tBnGrSCZNZCrtGBsSNGtBPhcgfchqqDPwVPRvNRqwN', 'CmrgstjZngtBzbjJlQWWHjjM', 'qttwGWHtVPzJJPqbmb', 'NrRvfTTghNrpLrrpLTrNrRrhvJmzmzlbbVVbdbdZlDdvzMPb', 'rfcprNcfgpLrVNnnCcnnscstFGCF', 'ZZhTfggZsbshGrfshMrNMCSRMMWqCqMNRq', 'TVTJPDTFccqMCcJw', 'BBLBmLTLDHFvsQpfgnZhbQvG', 'ffSrFvVVmVCQSfVDFzDvDDmmnGWCRqGRWNNqlttnRsNtGnWW', 'PgZQgPJJpTpTHRGtNRGWqZMWWR', 'wdTdwgbPJTJgTgLSFBbrQvSrFrVS', 'ppssshsscCVCHhVWVpznnQRBnZnBbzczFPRS', 'dqqfJGWttfWGlwwPSbFbZnRFPFtFZS', 'wGwdGdddLfGgMTJfwLMlJMpTCChjHhjTHpjjhmsDHmHW', 'PZQBhRPQBQrWHFHqHFHCqh', 'STQSvvvppzSVHJJFWjHC', 'TTgTvbsbszcNnnvbncvRGPBRtRgQrDPLfftPPR', 'dMltttpQhmQVZdmhsdrvNCHvlWbHWvHCWrlr', 'PzzLTGpGPDzFBzqFGFqFvHWHvRJbbrbWvCvjJCLv', 'BpqTBzpzfGGTTPZtSddtQmVffSst', 'bwHbRZldhQQfDWWGDjBf', 'CzvgpsNMsvCvFvpszpnMsFgBTDBDWPnPVJJZZDJnfjDTff', 'CpcLsFrMZbhRcdmt', 'HgjpWlhzpWjhWTQPFdPBRQzTMQ', 'JsfwrqLttwJVLGhRQGGPBd', 'CttfrqDmDDtCsbZCHjhZHSHNlgcW', 'QSdCWlCRhWRdlrlZrDssZsGDbv', 'pjPrpjqFNrZNGnBbsNDG', 'wjjVHjfLQRCgdLrC', 'PjMpRdBdjMSGsjpdprqtwCrNGrrNlthhrG', 'WQzDzLZDgzZcqlqqrtJclJnh', 'zbWHQHDfDWZHfLZHfffWVZpRSPpdVvBSPMqVMPjdvspS', 'TMBJLTJlFHBjFFtMGngpvvpgvQmtNSNngv', 'bVhsZswRCbbVZWVfVZwVSpmSQPPvNHwPHmgmSSNN', 'dCCVZZcbWVVcCbbfsLrdjFMJdDDHBTMrjr', 'vNWcTWnCqNCPPjhhHsQrfgszrTJRQsfRQD', 'wLdwMBLFBBQJpszJBqzB', 'lLwVmMSmttVMlSNqcbcbSbNcvHbh', 'PVfJfDWrPVPPLcPPFWcjPrqlqqQsljRpplqBQpRvSQvs', 'NdggMTCChMgdChNmdtTbtmsQSRhQslhlpFRpFwllwQvw', 'CdnGzbGbgMGMdTCZZDDJcZFDDnWrPH', 'fsshhnfLZSvcVbdcZVJj', 'RCCSmDFFpRqHQDgWvbGjgjDdbG', 'pFmFtCSBCSMBBLwrPsBPNlNB', 'fWWcwbbwbWfGCPgPfvbwgvgcQQqQLsGLJQTZHHrZRsrLqlJs', 'VnszmsDBpMFpzNFlrlRLRRHZqRHr', 'VpdzDMNzNDjpsdzdnzDcPCwtWCjhbthvfgtgwP', 'SPQtSWDLLltQQctHLSBSWHlWgFwhMRsgwggrFJPgdgwwGJhJ', 'nCqmfVqfVjTznCMhsGRRRgGFMffw', 'mCnNTVzVvjmqNtlDtbttDlBM', 'LjctjtppFWmgthgs', 'nBrNvzTqlDJlbbZgvmhMZVZb', 'JJrnTrrgGDqDPwwSPHPpfjRdPc', 'sTQmCmmVqmJHSTjGdMMfMNNvNHvc', 'rFbzlLLWWPzwlWrlbwzrWbRvdfFjdjpvjfFNNMccphCvhN', 'rrWzrwzPBBBCZTJgZg', 'gffvjftWddzZtbvdNvgZLwBBMJLSWMDMDDBRWRmS', 'PqPqpqcCnCpVqlClTQQmPMDwPRJJBLLLhS', 'VCGqlHmmHsjtHNsZ', 'mmMlVllWmhmmBzzLGMWlBmpstptPRRZpPMFJSpRsFRFs', 'DgjnndQcNTCCCDNcdSRSdtZPfwfwJSJJ', 'gQjCQqQjHNnjDCgHNcZGZLhHzrLVLGzlrGmb', 'JfwfJpBgJSMphZqtqDDG', 'QcQrssrGCcMCVcMc', 'RnljPRnPjWbGRbjnjbvmSzwHfHgwfJHzdLFSwBFW', 'sBjbHCBCnjvsJCHBsbvwwJGfRNFFFfFGTcrVFffNHRTP', 'zDqdpqMgMtgzthgDtQmzGPTVSTVrVGTFSVFFqNRF', 'zDLdphmmLhMhDhQdlzgLLbjCnWswWWlrZJBswCJJZl', 'FMNrQFgrVwmrpJMwMTMPflbsHPTtlSbftSjCbC', 'zGnGnhnGzDqRLnZLHNHbbbHDlltNSjCl', 'nzddcRzzBnRRvRRhvnQFpmpgggJVcVmMQmgN', 'CCpMlhwwpJpdBlsdcjvtZDFrtmRqmDrsmv', 'gzVPbjSPfSPTTTPnWVSbbvDQZZDZrFWDvFDvmvQQmZ', 'LTbLTPgnTzLVPNNGnNTgVNPlGdHHCphMwHMwjMphlpjccl', 'rMMrqcrmJqJqmCsTPWWGGPzPlPPrGL', 'fnwqwwZwRnVlWWnzWBWlDP', 'jvVHvqfpJmhtHJtH', 'NLMVQjRNTJCTJtZTJc', 'DlGlGHvFHGDgcFCtfhCJFtZc', 'DBHGGGSDvGDPHWBGdBbSvgWDNVMjLLRnmNmjPLNPNcRQVnjj', 'tsGdTJdJtNllzjGRzm', 'HZvvDLLWqbBBMRMRNjVhHRmn', 'vZDCvqqgBDZZjbZDrWqBvpdpFpcdpCJcPTSJJtptpP']\n",
      "2881\n"
     ]
    }
   ],
   "source": [
    "with open('day 3.txt') as f:\n",
    "    lines = f.read()\n",
    "    lines = lines.split(\"\\n\")\n",
    "firstpart , secondpart = [i[:len(i)//2] for i in lines],[i[len(i)//2:] for i in lines]\n",
    "output = ''\n",
    "for count,value in enumerate(firstpart):\n",
    "    for element in value:\n",
    "        if element in secondpart[count]:\n",
    "            output += element\n",
    "            break\n",
    "values = [(lambda x: ord(x) - 96 if x.islower() else ord(x) - 38)(x)  for x in output]\n",
    "print(sum(values))\n",
    "print(lines)\n",
    "output = ''\n",
    "for i in range(int(len(lines)/3)):\n",
    "    for letter in lines[i*3]:\n",
    "        if letter in lines[i*3+1] and letter in lines[i*3+2]:\n",
    "            output += letter\n",
    "            break\n",
    "values = [(lambda x: ord(x) - 96 if x.islower() else ord(x) - 38)(x)  for x in output]\n",
    "print(sum(values))\n"
   ]
  }
 ],
 "metadata": {
  "kernelspec": {
   "display_name": "Python 3.9.9 64-bit",
   "language": "python",
   "name": "python3"
  },
  "language_info": {
   "codemirror_mode": {
    "name": "ipython",
    "version": 3
   },
   "file_extension": ".py",
   "mimetype": "text/x-python",
   "name": "python",
   "nbconvert_exporter": "python",
   "pygments_lexer": "ipython3",
   "version": "3.9.9"
  },
  "orig_nbformat": 4,
  "vscode": {
   "interpreter": {
    "hash": "4ab9b6c5d3bf92fe4bc9eb597e788a04bfbcb1d7e66680abc0ef2b49b424de8c"
   }
  }
 },
 "nbformat": 4,
 "nbformat_minor": 2
}
