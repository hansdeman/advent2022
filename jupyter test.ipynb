{
 "cells": [
  {
   "cell_type": "code",
   "execution_count": 110,
   "metadata": {},
   "outputs": [],
   "source": [
    "import math\n",
    "import numpy as np\n",
    "import pandas as pd\n"
   ]
  },
  {
   "cell_type": "code",
   "execution_count": 111,
   "metadata": {},
   "outputs": [],
   "source": [
    "def column_sum(lst):\n",
    "      \n",
    "    return list(map(sum, zip(*lst)))\n",
    "      \n"
   ]
  },
  {
   "cell_type": "code",
   "execution_count": 119,
   "metadata": {},
   "outputs": [
    {
     "name": "stdout",
     "output_type": "stream",
     "text": [
      "65912\n",
      "195625\n"
     ]
    }
   ],
   "source": [
    "with open('day 1.txt') as f:\n",
    "    lines = f.read()\n",
    "    lines = lines.replace('\\n', ' ').split(\"  \")\n",
    "    lines = [k.split(' ') for k in lines]\n",
    "    lines = [[int(k) for k in j] for j in lines]\n",
    "#print(lines)\n",
    "sums = [sum(k) for k in lines]\n",
    "sums = sorted(sums)\n",
    "print(sums[-1])\n",
    "print(sum(sums[-3:]))"
   ]
  },
  {
   "cell_type": "code",
   "execution_count": 142,
   "metadata": {},
   "outputs": [
    {
     "name": "stdout",
     "output_type": "stream",
     "text": [
      "15\n",
      "21\n"
     ]
    }
   ],
   "source": [
    "with open('day 2.txt') as f:\n",
    "    lines = f.read()\n",
    "    lines = lines.split(\"\\n\")\n",
    "    lines = [k.split(' ') for k in lines]\n",
    "#print(lines)\n",
    "winning = [[\"A\",\"Y\"],[\"B\",\"Z\"],[\"C\",\"X\"]]\n",
    "draw = [[\"A\",\"X\"],[\"B\",\"Y\"],[\"C\",\"Z\"]]\n",
    "losing = [[\"A\",\"Z\"],[\"B\",\"X\"],[\"C\",\"Y\"]]\n",
    "figure =  {\"X\": 1,\"Y\": 2, \"Z\": 3}\n",
    "score = 0 \n",
    "for i,j in enumerate(lines):\n",
    "    if j in winning:\n",
    "        score += 6\n",
    "    if j in draw:\n",
    "        score += 3\n",
    "    score += figure[j[1]]\n",
    "print(score)\n",
    "winning = {\"A\": 2,\"B\": 3, \"C\" : 1}\n",
    "draw =  {\"A\": 1,\"B\": 2, \"C\" : 3}\n",
    "losing = {\"A\": 3,\"B\": 1, \"C\" : 2}\n",
    "score = 0\n",
    "for i,j in enumerate(lines):\n",
    "   if j[1] == \"X\":\n",
    "        score += losing[j[0]]\n",
    "   if j[1] == \"Y\":\n",
    "        score += draw[j[0]] + 3\n",
    "   else:\n",
    "        score += winning[j[0]] + 6\n",
    "print(score)\n"
   ]
  }
 ],
 "metadata": {
  "kernelspec": {
   "display_name": "Python 3.9.9 64-bit",
   "language": "python",
   "name": "python3"
  },
  "language_info": {
   "codemirror_mode": {
    "name": "ipython",
    "version": 3
   },
   "file_extension": ".py",
   "mimetype": "text/x-python",
   "name": "python",
   "nbconvert_exporter": "python",
   "pygments_lexer": "ipython3",
   "version": "3.9.9"
  },
  "orig_nbformat": 4,
  "vscode": {
   "interpreter": {
    "hash": "4ab9b6c5d3bf92fe4bc9eb597e788a04bfbcb1d7e66680abc0ef2b49b424de8c"
   }
  }
 },
 "nbformat": 4,
 "nbformat_minor": 2
}
