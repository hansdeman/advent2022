{
 "cells": [
  {
   "cell_type": "code",
   "execution_count": 43,
   "metadata": {},
   "outputs": [],
   "source": [
    "import math\n",
    "import numpy as np\n",
    "import pandas as pd\n"
   ]
  },
  {
   "cell_type": "code",
   "execution_count": 44,
   "metadata": {},
   "outputs": [],
   "source": [
    "def column_sum(lst):\n",
    "      \n",
    "    return list(map(sum, zip(*lst)))\n",
    "      \n"
   ]
  },
  {
   "cell_type": "code",
   "execution_count": 45,
   "metadata": {},
   "outputs": [
    {
     "name": "stdout",
     "output_type": "stream",
     "text": [
      "65912\n",
      "195625\n"
     ]
    }
   ],
   "source": [
    "with open('day 1.txt') as f:\n",
    "    lines = f.read()\n",
    "    lines = lines.replace('\\n', ' ').split(\"  \")\n",
    "    lines = [k.split(' ') for k in lines]\n",
    "    lines = [[int(k) for k in j] for j in lines]\n",
    "#print(lines)\n",
    "sums = [sum(k) for k in lines]\n",
    "sums = sorted(sums)\n",
    "print(sums[-1])\n",
    "print(sum(sums[-3:]))"
   ]
  },
  {
   "cell_type": "code",
   "execution_count": 46,
   "metadata": {},
   "outputs": [
    {
     "name": "stdout",
     "output_type": "stream",
     "text": [
      "13005\n",
      "11373\n"
     ]
    }
   ],
   "source": [
    "with open('day 2.txt') as f:\n",
    "    lines = f.read()\n",
    "    lines = lines.split(\"\\n\")\n",
    "    lines = [k.split(' ') for k in lines]\n",
    "#print(lines)\n",
    "winning = [[\"A\",\"Y\"],[\"B\",\"Z\"],[\"C\",\"X\"]]\n",
    "draw = [[\"A\",\"X\"],[\"B\",\"Y\"],[\"C\",\"Z\"]]\n",
    "losing = [[\"A\",\"Z\"],[\"B\",\"X\"],[\"C\",\"Y\"]]\n",
    "figure =  {\"X\": 1,\"Y\": 2, \"Z\": 3}\n",
    "score = 0 \n",
    "for i,j in enumerate(lines):\n",
    "    if j in winning:\n",
    "        score += 6\n",
    "    if j in draw:\n",
    "        score += 3\n",
    "    score += figure[j[1]]\n",
    "print(score)\n",
    "winning = {\"A\": 2,\"B\": 3, \"C\" : 1}\n",
    "draw =  {\"A\": 1,\"B\": 2, \"C\" : 3}\n",
    "losing = {\"A\": 3,\"B\": 1, \"C\" : 2}\n",
    "score = 0\n",
    "for i,j in enumerate(lines):\n",
    "   if j[1] == \"X\":\n",
    "        score += losing[j[0]]\n",
    "   elif j[1] == \"Y\":\n",
    "        score += draw[j[0]] + 3\n",
    "   else:\n",
    "        score += winning[j[0]] + 6\n",
    "print(score)\n"
   ]
  },
  {
   "cell_type": "code",
   "execution_count": 61,
   "metadata": {},
   "outputs": [
    {
     "name": "stdout",
     "output_type": "stream",
     "text": [
      "7980\n",
      "2881\n"
     ]
    }
   ],
   "source": [
    "with open('day 3.txt') as f:\n",
    "    lines = f.read()\n",
    "    lines = lines.split(\"\\n\")\n",
    "firstpart , secondpart = [i[:len(i)//2] for i in lines],[i[len(i)//2:] for i in lines]\n",
    "output = ''\n",
    "for count,value in enumerate(firstpart):\n",
    "    for element in value:\n",
    "        if element in secondpart[count]:\n",
    "            output += element\n",
    "            break\n",
    "values = [(lambda x: ord(x) - 96 if x.islower() else ord(x) - 38)(x)  for x in output]\n",
    "print(sum(values))\n",
    "#print(lines)\n",
    "output = ''\n",
    "for i in range(int(len(lines)/3)):\n",
    "    for letter in lines[i*3]:\n",
    "        if letter in lines[i*3+1] and letter in lines[i*3+2]:\n",
    "            output += letter\n",
    "            break\n",
    "values = [(lambda x: ord(x) - 96 if x.islower() else ord(x) - 38)(x)  for x in output]\n",
    "print(sum(values))\n"
   ]
  },
  {
   "cell_type": "code",
   "execution_count": 86,
   "metadata": {},
   "outputs": [
    {
     "name": "stdout",
     "output_type": "stream",
     "text": [
      "518\n",
      "True\n"
     ]
    }
   ],
   "source": [
    "with open('day 4.txt') as f:\n",
    "    lines = f.read()\n",
    "    lines = lines.split(\"\\n\")\n",
    "    lines = [k.split(',') for k in lines]\n",
    "    lines = [[k.split('-') for k in j] for j in lines]\n",
    "    lines = [[[int(k) for k in j] for j in i] for i in lines]\n",
    "counter = 0\n",
    "for count, value in enumerate(lines):\n",
    "    if (value[0][0] >= value[1][0] and value[0][1] <= value[1][1]) or (value[0][0] <= value[1][0] and value[0][1] >= value[1][1]):\n",
    "        counter += 1\n",
    "print(counter)\n",
    "counter = 0\n",
    "for count, value in enumerate(lines):\n",
    "    if (value[0][0] >= value[1][0] and value[0][0] <= value[1][1]) or (value[0][1] >= value[1][0] and value[0][1] <= value[1][1]) or (value[1][0] >= value[0][0] and value[1][0] <= value[0][1]) or (value[1][1] >= value[0][0] and value[1][1] <= value[0][1]) :\n",
    "         counter += 1\n",
    "print(counter)"
   ]
  },
  {
   "cell_type": "code",
   "execution_count": 48,
   "metadata": {},
   "outputs": [
    {
     "ename": "AttributeError",
     "evalue": "'list' object has no attribute 'deepcopy'",
     "output_type": "error",
     "traceback": [
      "\u001b[1;31m---------------------------------------------------------------------------\u001b[0m",
      "\u001b[1;31mAttributeError\u001b[0m                            Traceback (most recent call last)",
      "\u001b[1;32m~\\AppData\\Local\\Temp/ipykernel_13644/1120519717.py\u001b[0m in \u001b[0;36m<module>\u001b[1;34m\u001b[0m\n\u001b[0;32m     29\u001b[0m \u001b[1;31m#print(len(moves))\u001b[0m\u001b[1;33m\u001b[0m\u001b[1;33m\u001b[0m\u001b[0m\n\u001b[0;32m     30\u001b[0m \u001b[1;33m\u001b[0m\u001b[0m\n\u001b[1;32m---> 31\u001b[1;33m \u001b[0mcopy_stacks\u001b[0m \u001b[1;33m=\u001b[0m \u001b[0mstacks\u001b[0m\u001b[1;33m.\u001b[0m\u001b[0mdeepcopy\u001b[0m\u001b[1;33m(\u001b[0m\u001b[1;33m)\u001b[0m\u001b[1;33m\u001b[0m\u001b[1;33m\u001b[0m\u001b[0m\n\u001b[0m\u001b[0;32m     32\u001b[0m \u001b[1;31m#part 1\u001b[0m\u001b[1;33m\u001b[0m\u001b[1;33m\u001b[0m\u001b[0m\n\u001b[0;32m     33\u001b[0m \u001b[1;32mfor\u001b[0m \u001b[0mzet\u001b[0m \u001b[1;32min\u001b[0m \u001b[0mrange\u001b[0m\u001b[1;33m(\u001b[0m\u001b[0mlen\u001b[0m\u001b[1;33m(\u001b[0m\u001b[0mmoves\u001b[0m\u001b[1;33m)\u001b[0m\u001b[1;33m)\u001b[0m\u001b[1;33m:\u001b[0m\u001b[1;33m\u001b[0m\u001b[1;33m\u001b[0m\u001b[0m\n",
      "\u001b[1;31mAttributeError\u001b[0m: 'list' object has no attribute 'deepcopy'"
     ]
    }
   ],
   "source": [
    "with open('input 5.txt') as f:\n",
    "    setup = f.read()\n",
    "    setup = setup.split(\"\\n\")\n",
    "nostacks = int(setup[-1][-2])\n",
    "setup = setup[:-1]\n",
    "setup = setup[::-1]\n",
    "#print(setup)\n",
    "stacks = None\n",
    "def init_list_of_objects(size):\n",
    "    list_of_objects = list()\n",
    "    for i in range(0,size):\n",
    "        list_of_objects.append( list() ) #different object reference each time\n",
    "    return list_of_objects\n",
    "stacks = init_list_of_objects(nostacks)\n",
    "for i in range(len(setup)):\n",
    "    for j in range(nostacks):\n",
    "        if setup[i][j*4+1] != ' ':\n",
    "            stacks[j].append(setup[i][j*4+1])\n",
    "#print(stacks)\n",
    "\n",
    "with open(\"moves 5.txt\") as f:\n",
    "    moves = f.read()\n",
    "    moves = moves.split(\"\\n\")\n",
    "    moves = [k.split(' ') for k in moves]\n",
    "    moves = [j[1::2] for j in moves]\n",
    "    moves = [[int(j) for j in k] for k in moves]\n",
    "    \n",
    "#print(moves)\n",
    "#print(len(moves))\n",
    "\n",
    "copy_stacks = stacks[:]\n",
    "#part 1\n",
    "for zet in range(len(moves)):\n",
    "    for aantal in range(moves[zet][0]):\n",
    "        removed = stacks[moves[zet][1]-1].pop(-1)\n",
    "        stacks[moves[zet][2]-1].append(removed)\n",
    "print(stacks)\n",
    "\n",
    "#part 2\n",
    "stacks = copy_stacks\n",
    "print(moves)\n",
    "removed = []\n",
    "#for zet in range(len(moves)):\n",
    "        #removed = stacks[moves[zet][1]-1].pop(-1)\n",
    "        #stacks[moves[zet][2]-1].append(removed)\n",
    "print(stacks)\n",
    "\n"
   ]
  }
 ],
 "metadata": {
  "kernelspec": {
   "display_name": "Python 3.9.9 64-bit",
   "language": "python",
   "name": "python3"
  },
  "language_info": {
   "codemirror_mode": {
    "name": "ipython",
    "version": 3
   },
   "file_extension": ".py",
   "mimetype": "text/x-python",
   "name": "python",
   "nbconvert_exporter": "python",
   "pygments_lexer": "ipython3",
   "version": "3.9.9"
  },
  "orig_nbformat": 4,
  "vscode": {
   "interpreter": {
    "hash": "4ab9b6c5d3bf92fe4bc9eb597e788a04bfbcb1d7e66680abc0ef2b49b424de8c"
   }
  }
 },
 "nbformat": 4,
 "nbformat_minor": 2
}
