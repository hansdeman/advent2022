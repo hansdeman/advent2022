{
 "cells": [
  {
   "cell_type": "code",
   "execution_count": 110,
   "metadata": {},
   "outputs": [],
   "source": [
    "import math\n",
    "import numpy as np\n",
    "import pandas as pd\n"
   ]
  },
  {
   "cell_type": "code",
   "execution_count": 111,
   "metadata": {},
   "outputs": [],
   "source": [
    "def column_sum(lst):\n",
    "      \n",
    "    return list(map(sum, zip(*lst)))\n",
    "      \n"
   ]
  },
  {
   "cell_type": "code",
   "execution_count": 118,
   "metadata": {},
   "outputs": [
    {
     "name": "stdout",
     "output_type": "stream",
     "text": [
      "65912\n",
      "195625\n"
     ]
    }
   ],
   "source": [
    "with open('day 1.txt') as f:\n",
    "    lines = f.read()\n",
    "    lines = lines.replace('\\n', ' ').split(\"  \")\n",
    "    lines = [k.split(' ') for k in lines]\n",
    "    lines = [[int(k) for k in j] for j in lines]\n",
    "#print(lines)\n",
    "sums = [sum(k) for k in lines]\n",
    "sums = sorted(sums)\n",
    "print(sums[-1])\n",
    "print(sum(sums[-3:]))"
   ]
  }
 ],
 "metadata": {
  "kernelspec": {
   "display_name": "Python 3.9.9 64-bit",
   "language": "python",
   "name": "python3"
  },
  "language_info": {
   "codemirror_mode": {
    "name": "ipython",
    "version": 3
   },
   "file_extension": ".py",
   "mimetype": "text/x-python",
   "name": "python",
   "nbconvert_exporter": "python",
   "pygments_lexer": "ipython3",
   "version": "3.9.9"
  },
  "orig_nbformat": 4,
  "vscode": {
   "interpreter": {
    "hash": "4ab9b6c5d3bf92fe4bc9eb597e788a04bfbcb1d7e66680abc0ef2b49b424de8c"
   }
  }
 },
 "nbformat": 4,
 "nbformat_minor": 2
}
